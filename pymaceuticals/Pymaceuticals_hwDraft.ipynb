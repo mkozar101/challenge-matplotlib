{
 "cells": [
  {
   "cell_type": "markdown",
   "metadata": {},
   "source": [
    "## Observations and Insights"
   ]
  },
  {
   "cell_type": "markdown",
   "metadata": {},
   "source": []
  },
  {
   "cell_type": "markdown",
   "metadata": {},
   "source": [
    "## Dependencies and starter code"
   ]
  },
  {
   "cell_type": "code",
   "execution_count": 1,
   "metadata": {},
   "outputs": [],
   "source": [
    "# Dependencies and Setup\n",
    "import matplotlib.pyplot as plt\n",
    "import pandas as pd\n",
    "import scipy.stats as st\n",
    "import numpy as np\n",
    "\n",
    "# Study data files\n",
    "mouse_metadata = \"data/Mouse_metadata.csv\"\n",
    "study_results = \"data/Study_results.csv\"\n",
    "\n",
    "# Read the mouse data and the study results\n",
    "mouse_metadata = pd.read_csv(mouse_metadata)\n",
    "study_results = pd.read_csv(study_results)\n",
    "\n",
    "# Combine the data into a single dataset\n",
    "pharma_data = pd.merge(mouse_metadata, study_results, on = \"Mouse ID\")"
   ]
  },
  {
   "cell_type": "markdown",
   "metadata": {},
   "source": [
    "## Summary statistics"
   ]
  },
  {
   "cell_type": "code",
   "execution_count": 2,
   "metadata": {},
   "outputs": [
    {
     "data": {
      "text/html": [
       "<div>\n",
       "<style scoped>\n",
       "    .dataframe tbody tr th:only-of-type {\n",
       "        vertical-align: middle;\n",
       "    }\n",
       "\n",
       "    .dataframe tbody tr th {\n",
       "        vertical-align: top;\n",
       "    }\n",
       "\n",
       "    .dataframe thead th {\n",
       "        text-align: right;\n",
       "    }\n",
       "</style>\n",
       "<table border=\"1\" class=\"dataframe\">\n",
       "  <thead>\n",
       "    <tr style=\"text-align: right;\">\n",
       "      <th></th>\n",
       "      <th>MeanTumorVolume</th>\n",
       "      <th>MedianTumorVolume</th>\n",
       "      <th>VarianceTumorVolume</th>\n",
       "      <th>StDevTumorVolume</th>\n",
       "      <th>SemTumorVolume</th>\n",
       "    </tr>\n",
       "    <tr>\n",
       "      <th>Drug</th>\n",
       "      <th></th>\n",
       "      <th></th>\n",
       "      <th></th>\n",
       "      <th></th>\n",
       "      <th></th>\n",
       "    </tr>\n",
       "  </thead>\n",
       "  <tbody>\n",
       "    <tr>\n",
       "      <th>Capomulin</th>\n",
       "      <td>40.675741</td>\n",
       "      <td>41.557809</td>\n",
       "      <td>24.947764</td>\n",
       "      <td>4.994774</td>\n",
       "      <td>0.329346</td>\n",
       "    </tr>\n",
       "    <tr>\n",
       "      <th>Ceftamin</th>\n",
       "      <td>52.591172</td>\n",
       "      <td>51.776157</td>\n",
       "      <td>39.290177</td>\n",
       "      <td>6.268188</td>\n",
       "      <td>0.469821</td>\n",
       "    </tr>\n",
       "    <tr>\n",
       "      <th>Infubinol</th>\n",
       "      <td>52.884795</td>\n",
       "      <td>51.820584</td>\n",
       "      <td>43.128684</td>\n",
       "      <td>6.567243</td>\n",
       "      <td>0.492236</td>\n",
       "    </tr>\n",
       "    <tr>\n",
       "      <th>Ketapril</th>\n",
       "      <td>55.235638</td>\n",
       "      <td>53.698743</td>\n",
       "      <td>68.553577</td>\n",
       "      <td>8.279709</td>\n",
       "      <td>0.603860</td>\n",
       "    </tr>\n",
       "    <tr>\n",
       "      <th>Naftisol</th>\n",
       "      <td>54.331565</td>\n",
       "      <td>52.509285</td>\n",
       "      <td>66.173479</td>\n",
       "      <td>8.134708</td>\n",
       "      <td>0.596466</td>\n",
       "    </tr>\n",
       "    <tr>\n",
       "      <th>Placebo</th>\n",
       "      <td>54.033581</td>\n",
       "      <td>52.288934</td>\n",
       "      <td>61.168083</td>\n",
       "      <td>7.821003</td>\n",
       "      <td>0.581331</td>\n",
       "    </tr>\n",
       "    <tr>\n",
       "      <th>Propriva</th>\n",
       "      <td>52.322552</td>\n",
       "      <td>50.854632</td>\n",
       "      <td>42.351070</td>\n",
       "      <td>6.507770</td>\n",
       "      <td>0.512884</td>\n",
       "    </tr>\n",
       "    <tr>\n",
       "      <th>Ramicane</th>\n",
       "      <td>40.216745</td>\n",
       "      <td>40.673236</td>\n",
       "      <td>23.486704</td>\n",
       "      <td>4.846308</td>\n",
       "      <td>0.320955</td>\n",
       "    </tr>\n",
       "    <tr>\n",
       "      <th>Stelasyn</th>\n",
       "      <td>54.233149</td>\n",
       "      <td>52.431737</td>\n",
       "      <td>59.450562</td>\n",
       "      <td>7.710419</td>\n",
       "      <td>0.573111</td>\n",
       "    </tr>\n",
       "    <tr>\n",
       "      <th>Zoniferol</th>\n",
       "      <td>53.236507</td>\n",
       "      <td>51.818479</td>\n",
       "      <td>48.533355</td>\n",
       "      <td>6.966589</td>\n",
       "      <td>0.516398</td>\n",
       "    </tr>\n",
       "  </tbody>\n",
       "</table>\n",
       "</div>"
      ],
      "text/plain": [
       "           MeanTumorVolume  MedianTumorVolume  VarianceTumorVolume  \\\n",
       "Drug                                                                 \n",
       "Capomulin        40.675741          41.557809            24.947764   \n",
       "Ceftamin         52.591172          51.776157            39.290177   \n",
       "Infubinol        52.884795          51.820584            43.128684   \n",
       "Ketapril         55.235638          53.698743            68.553577   \n",
       "Naftisol         54.331565          52.509285            66.173479   \n",
       "Placebo          54.033581          52.288934            61.168083   \n",
       "Propriva         52.322552          50.854632            42.351070   \n",
       "Ramicane         40.216745          40.673236            23.486704   \n",
       "Stelasyn         54.233149          52.431737            59.450562   \n",
       "Zoniferol        53.236507          51.818479            48.533355   \n",
       "\n",
       "           StDevTumorVolume  SemTumorVolume  \n",
       "Drug                                         \n",
       "Capomulin          4.994774        0.329346  \n",
       "Ceftamin           6.268188        0.469821  \n",
       "Infubinol          6.567243        0.492236  \n",
       "Ketapril           8.279709        0.603860  \n",
       "Naftisol           8.134708        0.596466  \n",
       "Placebo            7.821003        0.581331  \n",
       "Propriva           6.507770        0.512884  \n",
       "Ramicane           4.846308        0.320955  \n",
       "Stelasyn           7.710419        0.573111  \n",
       "Zoniferol          6.966589        0.516398  "
      ]
     },
     "execution_count": 2,
     "metadata": {},
     "output_type": "execute_result"
    }
   ],
   "source": [
    "# Generate a summary statistics table of mean, median, variance, standard deviation, and SEM of the tumor volume for each regimen\n",
    "pharma_data.columns = [\"MouseID\",\"Drug\",\"Sex\",\"AgeMonths\",\"WeightGrams\",\"TimePoint\",\"TumorVolume\",\"MetastaticSites\"]\n",
    "\n",
    "pharma_groupby = pharma_data.groupby(\"Drug\")\n",
    "pharma_mean = pharma_groupby[\"TumorVolume\"].mean()\n",
    "pharma_mean = pd.DataFrame(pharma_mean)\n",
    "pharma_median = pharma_groupby[\"TumorVolume\"].median()\n",
    "pharma_median = pd.DataFrame(pharma_median)\n",
    "pharma_variance = pharma_groupby[\"TumorVolume\"].var()\n",
    "pharma_variance = pd.DataFrame(pharma_variance)\n",
    "pharma_std = pharma_groupby[\"TumorVolume\"].std()\n",
    "pharma_std = pd.DataFrame(pharma_std)\n",
    "pharma_sem = pharma_groupby[\"TumorVolume\"].sem()\n",
    "pharma_sem = pd.DataFrame(pharma_sem)\n",
    "pharma_summary = pd.concat([pharma_mean,pharma_median,pharma_variance,pharma_std,pharma_sem], axis=1, ignore_index=False)\n",
    "pharma_summary.columns = [\"MeanTumorVolume\",\"MedianTumorVolume\",\"VarianceTumorVolume\",\"StDevTumorVolume\",\"SemTumorVolume\"]\n",
    "pharma_summary\n",
    "\n"
   ]
  },
  {
   "cell_type": "markdown",
   "metadata": {},
   "source": [
    "## Bar plots"
   ]
  },
  {
   "cell_type": "code",
   "execution_count": 3,
   "metadata": {},
   "outputs": [
    {
     "data": {
      "text/plain": [
       "Text(0, 0.5, 'Count of Data Points')"
      ]
     },
     "execution_count": 3,
     "metadata": {},
     "output_type": "execute_result"
    },
    {
     "data": {
      "image/png": "[encoded data removed]",
      "text/plain": [
       "<Figure size 432x288 with 1 Axes>"
      ]
     },
     "metadata": {
      "needs_background": "light"
     },
     "output_type": "display_data"
    }
   ],
   "source": [
    "# Generate a bar plot showing number of data points for each treatment regimen using pandas\n",
    "pharma_count = pharma_groupby[\"MouseID\"].count()\n",
    "pharma_count = pd.DataFrame(pharma_count)\n",
    "data_chart = pharma_count.plot(kind=\"bar\", legend=False, width=.8, color=[\"blue\"])\n",
    "data_chart.set_title(\"Data Points by Drug Treatment Regime\")\n",
    "data_chart.set_ylabel(\"Count of Data Points\")"
   ]
  },
  {
   "cell_type": "code",
   "execution_count": 4,
   "metadata": {},
   "outputs": [
    {
     "data": {
      "text/plain": [
       "Text(0, 0.5, 'Count of Data Points')"
      ]
     },
     "execution_count": 4,
     "metadata": {},
     "output_type": "execute_result"
    },
    {
     "data": {
      "image/png": "[encoded data removed]",
      "text/plain": [
       "<Figure size 432x288 with 1 Axes>"
      ]
     },
     "metadata": {
      "needs_background": "light"
     },
     "output_type": "display_data"
    }
   ],
   "source": [
    "# Generate a bar plot showing number of data points for each treatment regimen using pyplot\n",
    "data_points = pharma_count[\"MouseID\"]\n",
    "x_axis = np.arange(len(pharma_count[[\"MouseID\"]]))\n",
    "plt.bar(x_axis, data_points,color=\"b\",align=\"center\")\n",
    "tick_locations = [value for value in x_axis]\n",
    "plt.xticks(tick_locations,pharma_count.index)\n",
    "plt.xticks(rotation=90)\n",
    "plt.title(\"Data Points by Drug Treatment Regime\")\n",
    "plt.ylabel(\"Count of Data Points\")\n",
    "\n"
   ]
  },
  {
   "cell_type": "markdown",
   "metadata": {},
   "source": [
    "## Pie plots"
   ]
  },
  {
   "cell_type": "code",
   "execution_count": 5,
   "metadata": {},
   "outputs": [
    {
     "name": "stderr",
     "output_type": "stream",
     "text": [
      "C:\\Users\\mkoza\\Anaconda3\\envs\\PythonData\\lib\\site-packages\\ipykernel_launcher.py:3: SettingWithCopyWarning: \n",
      "A value is trying to be set on a copy of a slice from a DataFrame\n",
      "\n",
      "See the caveats in the documentation: https://pandas.pydata.org/pandas-docs/stable/user_guide/indexing.html#returning-a-view-versus-a-copy\n",
      "  This is separate from the ipykernel package so we can avoid doing imports until\n"
     ]
    },
    {
     "data": {
      "text/html": [
       "<div>\n",
       "<style scoped>\n",
       "    .dataframe tbody tr th:only-of-type {\n",
       "        vertical-align: middle;\n",
       "    }\n",
       "\n",
       "    .dataframe tbody tr th {\n",
       "        vertical-align: top;\n",
       "    }\n",
       "\n",
       "    .dataframe thead th {\n",
       "        text-align: right;\n",
       "    }\n",
       "</style>\n",
       "<table border=\"1\" class=\"dataframe\">\n",
       "  <thead>\n",
       "    <tr style=\"text-align: right;\">\n",
       "      <th></th>\n",
       "      <th>Sex</th>\n",
       "      <th>MouseID</th>\n",
       "    </tr>\n",
       "  </thead>\n",
       "  <tbody>\n",
       "    <tr>\n",
       "      <th>0</th>\n",
       "      <td>Female</td>\n",
       "      <td>124</td>\n",
       "    </tr>\n",
       "    <tr>\n",
       "      <th>1</th>\n",
       "      <td>Male</td>\n",
       "      <td>125</td>\n",
       "    </tr>\n",
       "  </tbody>\n",
       "</table>\n",
       "</div>"
      ],
      "text/plain": [
       "      Sex  MouseID\n",
       "0  Female      124\n",
       "1    Male      125"
      ]
     },
     "execution_count": 5,
     "metadata": {},
     "output_type": "execute_result"
    }
   ],
   "source": [
    "# Groupby Sex to get count of male and female mice\n",
    "mouse_sex = pharma_data[['MouseID','Sex']]\n",
    "mouse_sex.drop_duplicates(inplace=True)\n",
    "sex_groupby = mouse_sex.groupby(\"Sex\")\n",
    "sex_count = sex_groupby.count()\n",
    "sex_count.reset_index()"
   ]
  },
  {
   "cell_type": "code",
   "execution_count": 6,
   "metadata": {},
   "outputs": [
    {
     "data": {
      "text/plain": [
       "[Text(0, 0.5, '')]"
      ]
     },
     "execution_count": 6,
     "metadata": {},
     "output_type": "execute_result"
    },
    {
     "data": {
      "image/png": "[encoded data removed]",
      "text/plain": [
       "<Figure size 432x288 with 1 Axes>"
      ]
     },
     "metadata": {},
     "output_type": "display_data"
    }
   ],
   "source": [
    "# Generate a pie plot showing the distribution of female versus male mice using pandas\n",
    "ax =sex_count.plot(kind=\"pie\",x=\"Sex\",y=\"MouseID\",title=\"Distribution of Female v. Male mice\", legend=False, colors=[\"lightcoral\",\"blue\"],startangle=90, autopct=\"%1.1f%%\")\n",
    "ax.set(ylabel=\"\")\n"
   ]
  },
  {
   "cell_type": "code",
   "execution_count": 7,
   "metadata": {},
   "outputs": [
    {
     "data": {
      "text/plain": [
       "Text(0.5, 1.0, 'Distribution of Female v. Male mice')"
      ]
     },
     "execution_count": 7,
     "metadata": {},
     "output_type": "execute_result"
    },
    {
     "data": {
      "image/png": "[encoded data removed]",
      "text/plain": [
       "<Figure size 432x288 with 1 Axes>"
      ]
     },
     "metadata": {},
     "output_type": "display_data"
    }
   ],
   "source": [
    "# Generate a pie plot showing the distribution of female versus male mice using pyplot\n",
    "labels = [\"Male\",\"Female\"]\n",
    "sizes = [124,125]\n",
    "colors = [\"lightcoral\",\"blue\"]\n",
    "plt.pie(sizes,labels=labels,colors=colors,autopct=\"%1.1f%%\",startangle=90)\n",
    "plt.title(\"Distribution of Female v. Male mice\")\n",
    "\n"
   ]
  },
  {
   "cell_type": "markdown",
   "metadata": {},
   "source": [
    "## Quartiles, outliers and boxplots"
   ]
  },
  {
   "cell_type": "code",
   "execution_count": 8,
   "metadata": {},
   "outputs": [
    {
     "data": {
      "text/html": [
       "<div>\n",
       "<style scoped>\n",
       "    .dataframe tbody tr th:only-of-type {\n",
       "        vertical-align: middle;\n",
       "    }\n",
       "\n",
       "    .dataframe tbody tr th {\n",
       "        vertical-align: top;\n",
       "    }\n",
       "\n",
       "    .dataframe thead th {\n",
       "        text-align: right;\n",
       "    }\n",
       "</style>\n",
       "<table border=\"1\" class=\"dataframe\">\n",
       "  <thead>\n",
       "    <tr style=\"text-align: right;\">\n",
       "      <th></th>\n",
       "      <th>MouseID</th>\n",
       "      <th>Drug</th>\n",
       "      <th>Sex</th>\n",
       "      <th>AgeMonths</th>\n",
       "      <th>WeightGrams</th>\n",
       "      <th>TimePoint</th>\n",
       "      <th>TumorVolume</th>\n",
       "      <th>MetastaticSites</th>\n",
       "    </tr>\n",
       "  </thead>\n",
       "  <tbody>\n",
       "    <tr>\n",
       "      <th>463</th>\n",
       "      <td>a203</td>\n",
       "      <td>Infubinol</td>\n",
       "      <td>Female</td>\n",
       "      <td>20</td>\n",
       "      <td>23</td>\n",
       "      <td>45</td>\n",
       "      <td>67.973419</td>\n",
       "      <td>2</td>\n",
       "    </tr>\n",
       "    <tr>\n",
       "      <th>473</th>\n",
       "      <td>a251</td>\n",
       "      <td>Infubinol</td>\n",
       "      <td>Female</td>\n",
       "      <td>21</td>\n",
       "      <td>25</td>\n",
       "      <td>45</td>\n",
       "      <td>65.525743</td>\n",
       "      <td>1</td>\n",
       "    </tr>\n",
       "    <tr>\n",
       "      <th>483</th>\n",
       "      <td>a262</td>\n",
       "      <td>Placebo</td>\n",
       "      <td>Female</td>\n",
       "      <td>17</td>\n",
       "      <td>29</td>\n",
       "      <td>45</td>\n",
       "      <td>70.717621</td>\n",
       "      <td>4</td>\n",
       "    </tr>\n",
       "    <tr>\n",
       "      <th>493</th>\n",
       "      <td>a275</td>\n",
       "      <td>Ceftamin</td>\n",
       "      <td>Female</td>\n",
       "      <td>20</td>\n",
       "      <td>28</td>\n",
       "      <td>45</td>\n",
       "      <td>62.999356</td>\n",
       "      <td>3</td>\n",
       "    </tr>\n",
       "    <tr>\n",
       "      <th>500</th>\n",
       "      <td>a366</td>\n",
       "      <td>Stelasyn</td>\n",
       "      <td>Female</td>\n",
       "      <td>16</td>\n",
       "      <td>29</td>\n",
       "      <td>30</td>\n",
       "      <td>63.440686</td>\n",
       "      <td>1</td>\n",
       "    </tr>\n",
       "  </tbody>\n",
       "</table>\n",
       "</div>"
      ],
      "text/plain": [
       "    MouseID       Drug     Sex  AgeMonths  WeightGrams  TimePoint  \\\n",
       "463    a203  Infubinol  Female         20           23         45   \n",
       "473    a251  Infubinol  Female         21           25         45   \n",
       "483    a262    Placebo  Female         17           29         45   \n",
       "493    a275   Ceftamin  Female         20           28         45   \n",
       "500    a366   Stelasyn  Female         16           29         30   \n",
       "\n",
       "     TumorVolume  MetastaticSites  \n",
       "463    67.973419                2  \n",
       "473    65.525743                1  \n",
       "483    70.717621                4  \n",
       "493    62.999356                3  \n",
       "500    63.440686                1  "
      ]
     },
     "execution_count": 8,
     "metadata": {},
     "output_type": "execute_result"
    }
   ],
   "source": [
    "#Calculate the final tumor volume of each mouse across four of the most promising treatment regimes\n",
    "#sort by time point and mouse\n",
    "pharma_data1 = pharma_data.sort_values(by=[\"MouseID\",\"TimePoint\"])\n",
    "pharma_data1 = pharma_data1.drop_duplicates(\"MouseID\",keep= \"last\")\n",
    "pharma_data1.head()\n",
    "\n"
   ]
  },
  {
   "cell_type": "code",
   "execution_count": 9,
   "metadata": {},
   "outputs": [
    {
     "data": {
      "text/html": [
       "<div>\n",
       "<style scoped>\n",
       "    .dataframe tbody tr th:only-of-type {\n",
       "        vertical-align: middle;\n",
       "    }\n",
       "\n",
       "    .dataframe tbody tr th {\n",
       "        vertical-align: top;\n",
       "    }\n",
       "\n",
       "    .dataframe thead th {\n",
       "        text-align: right;\n",
       "    }\n",
       "</style>\n",
       "<table border=\"1\" class=\"dataframe\">\n",
       "  <thead>\n",
       "    <tr style=\"text-align: right;\">\n",
       "      <th></th>\n",
       "      <th>outlier_lower</th>\n",
       "      <th>lowerq</th>\n",
       "      <th>iqr</th>\n",
       "      <th>upperq</th>\n",
       "      <th>outlier_upper</th>\n",
       "    </tr>\n",
       "  </thead>\n",
       "  <tbody>\n",
       "    <tr>\n",
       "      <th>Capomulin</th>\n",
       "      <td>20.704562</td>\n",
       "      <td>32.377357</td>\n",
       "      <td>7.781863</td>\n",
       "      <td>40.159220</td>\n",
       "      <td>51.832015</td>\n",
       "    </tr>\n",
       "    <tr>\n",
       "      <th>Ramicane</th>\n",
       "      <td>17.912664</td>\n",
       "      <td>31.560470</td>\n",
       "      <td>9.098537</td>\n",
       "      <td>40.659006</td>\n",
       "      <td>54.306811</td>\n",
       "    </tr>\n",
       "    <tr>\n",
       "      <th>Infubinol</th>\n",
       "      <td>36.832905</td>\n",
       "      <td>54.048608</td>\n",
       "      <td>11.477135</td>\n",
       "      <td>65.525743</td>\n",
       "      <td>82.741446</td>\n",
       "    </tr>\n",
       "    <tr>\n",
       "      <th>Ceftamin</th>\n",
       "      <td>25.355450</td>\n",
       "      <td>48.722078</td>\n",
       "      <td>15.577752</td>\n",
       "      <td>64.299830</td>\n",
       "      <td>87.666458</td>\n",
       "    </tr>\n",
       "  </tbody>\n",
       "</table>\n",
       "</div>"
      ],
      "text/plain": [
       "           outlier_lower     lowerq        iqr     upperq  outlier_upper\n",
       "Capomulin      20.704562  32.377357   7.781863  40.159220      51.832015\n",
       "Ramicane       17.912664  31.560470   9.098537  40.659006      54.306811\n",
       "Infubinol      36.832905  54.048608  11.477135  65.525743      82.741446\n",
       "Ceftamin       25.355450  48.722078  15.577752  64.299830      87.666458"
      ]
     },
     "execution_count": 9,
     "metadata": {},
     "output_type": "execute_result"
    }
   ],
   "source": [
    "#Calculate the IQR\n",
    "#create list of drugs to loop through\n",
    "drug_list = [\"Capomulin\",\"Ramicane\",\"Infubinol\", \"Ceftamin\"]\n",
    "\n",
    "#create empty list to start results of for loop\n",
    "summary_quartiles = []\n",
    "\n",
    "#create loop to get quartile information\n",
    "for drug in drug_list:  \n",
    "    temp_volume = pharma_data1.loc[(pharma_data[\"Drug\"]==drug)]\n",
    "    quartiles = temp_volume[\"TumorVolume\"].quantile([.25,.5,.75])\n",
    "    summary_quartiles.append(quartiles) \n",
    "\n",
    "summary_quartiles = pd.concat(summary_quartiles, axis = 1)\n",
    "summary_quartiles.columns = drug_list\n",
    "\n",
    "#set up counter for second for loop\n",
    "df_counter = np.arange(len(drug_list))\n",
    "\n",
    "#set up empty list to hold boxplot relevant info\n",
    "list_boxplot = []\n",
    "\n",
    "#for loop to get summary information\n",
    "for i in df_counter:\n",
    "    lowerq = summary_quartiles.iloc[0,i]\n",
    "    upperq = summary_quartiles.iloc[2,i]\n",
    "    iqr = upperq-lowerq\n",
    "    outlier_upper = upperq + (1.5*iqr)\n",
    "    outlier_lower = lowerq - (1.5*iqr)\n",
    "    summary_boxplot = [outlier_lower, lowerq,iqr,upperq,outlier_upper]\n",
    "    list_boxplot.append(summary_boxplot)\n",
    "\n",
    "df_boxplot = pd.DataFrame(list_boxplot)\n",
    "df_boxplot.index = drug_list\n",
    "df_boxplot.columns = [\"outlier_lower\", \"lowerq\",\"iqr\",\"upperq\",\"outlier_upper\"]\n",
    "\n",
    "df_boxplot"
   ]
  },
  {
   "cell_type": "code",
   "execution_count": 10,
   "metadata": {},
   "outputs": [
    {
     "name": "stdout",
     "output_type": "stream",
     "text": [
      "Capomulin doesn't seem to have any outlier tumor volumes\n",
      "Ramicane doesn't seem to have any outlier tumor volumes\n",
      "Infubinol potentially has outlier tumor volumes\n",
      "Ceftamin doesn't seem to have any outlier tumor volumes\n"
     ]
    }
   ],
   "source": [
    "#Quantitatively determine if there are any outliers\n",
    "\n",
    "#create empty list for drug subset\n",
    "drug_subset = []\n",
    "\n",
    "for i in df_counter:\n",
    "    temp_subset = pharma_data1.loc[(pharma_data[\"Drug\"]==drug_list[i])]\n",
    "    drug_subset.append(temp_subset)\n",
    "\n",
    "for i in df_counter:\n",
    "    if df_boxplot.iloc[i,0] > drug_subset[i][\"TumorVolume\"].min() or df_boxplot.iloc[i,4] < drug_subset[i][\"TumorVolume\"].max():\n",
    "        print(f\"{drug_list[i]} potentially has outlier tumor volumes\")\n",
    "    else:\n",
    "        print(f\"{drug_list[i]} doesn't seem to have any outlier tumor volumes\")\n",
    "        "
   ]
  },
  {
   "cell_type": "code",
   "execution_count": 11,
   "metadata": {},
   "outputs": [
    {
     "data": {
      "text/plain": [
       "Text(0.5, 1.0, 'Final Tumor Volume by Treatment')"
      ]
     },
     "execution_count": 11,
     "metadata": {},
     "output_type": "execute_result"
    },
    {
     "data": {
      "image/png": "[encoded data removed]",
      "text/plain": [
       "<Figure size 432x288 with 1 Axes>"
      ]
     },
     "metadata": {
      "needs_background": "light"
     },
     "output_type": "display_data"
    }
   ],
   "source": [
    "# Generate a box plot of the final tumor volume of each mouse across four regimens of interest\n",
    "capomulin = drug_subset[0][\"TumorVolume\"]\n",
    "ramicane = drug_subset[1][\"TumorVolume\"]\n",
    "infubinol = drug_subset[2][\"TumorVolume\"]\n",
    "ceftamin = drug_subset[3][\"TumorVolume\"]\n",
    "\n",
    "boxplot_figure = plt.boxplot([capomulin, ramicane,infubinol,ceftamin], labels = drug_list)\n",
    "plt.ylabel(\"Tumor Volume\")\n",
    "plt.title(\"Final Tumor Volume by Treatment\")"
   ]
  },
  {
   "cell_type": "markdown",
   "metadata": {},
   "source": [
    "## Line and scatter plots"
   ]
  },
  {
   "cell_type": "code",
   "execution_count": 32,
   "metadata": {},
   "outputs": [
    {
     "data": {
      "text/plain": [
       "Text(0, 0.5, 'Tumor Volume')"
      ]
     },
     "execution_count": 32,
     "metadata": {},
     "output_type": "execute_result"
    },
    {
     "data": {
      "image/png": "[encoded data removed]",
      "text/plain": [
       "<Figure size 432x288 with 1 Axes>"
      ]
     },
     "metadata": {
      "needs_background": "light"
     },
     "output_type": "display_data"
    }
   ],
   "source": [
    "# Generate a line plot of time point versus tumor volume for a mouse treated with Capomulin\n",
    "mouse_a275 = pharma_data.loc[(pharma_data[\"MouseID\"]==\"a275\")]\n",
    "x_axis = mouse_a275[\"TimePoint\"]\n",
    "y_axis = mouse_a275[\"TumorVolume\"]\n",
    "plt.plot(x_axis,y_axis)\n",
    "plt.title(\"Tumor Volume over Time for Mouse A275\")\n",
    "plt.xlabel(\"Time\")\n",
    "plt.ylabel(\"Tumor Volume\")"
   ]
  },
  {
   "cell_type": "code",
   "execution_count": 24,
   "metadata": {},
   "outputs": [
    {
     "data": {
      "text/plain": [
       "Text(0, 0.5, 'Tumor Volume')"
      ]
     },
     "execution_count": 24,
     "metadata": {},
     "output_type": "execute_result"
    },
    {
     "data": {
      "image/png": "[encoded data removed]",
      "text/plain": [
       "<Figure size 432x288 with 1 Axes>"
      ]
     },
     "metadata": {
      "needs_background": "light"
     },
     "output_type": "display_data"
    }
   ],
   "source": [
    "# Generate a scatter plot of mouse weight versus average tumor volume for the Capomulin regimen\n",
    "pharma_data1.head()\n",
    "\n",
    "capomulin_WeightTumor = pharma_data1.loc[(pharma_data1[\"Drug\"]==\"Capomulin\")]\n",
    "capomulin_WeightTumor\n",
    "capomulin_weight = capomulin_WeightTumor[[\"WeightGrams\"]]\n",
    "capomulin_volume = capomulin_WeightTumor[[\"TumorVolume\"]]\n",
    "plt.scatter(capomulin_weight, capomulin_volume)\n",
    "plt.title(\"Average Tumor Volume v. Mouse Weight for Capomulin Treatment\")\n",
    "plt.xlabel(\"Weight (grams)\")\n",
    "plt.ylabel(\"Tumor Volume\")"
   ]
  },
  {
   "cell_type": "code",
   "execution_count": 28,
   "metadata": {},
   "outputs": [
    {
     "name": "stdout",
     "output_type": "stream",
     "text": [
      "The correlation coefficient for this linear model is 0.877\n"
     ]
    },
    {
     "data": {
      "image/png": "[encoded data removed]",
      "text/plain": [
       "<Figure size 432x288 with 1 Axes>"
      ]
     },
     "metadata": {
      "needs_background": "light"
     },
     "output_type": "display_data"
    }
   ],
   "source": [
    "# Calculate the correlation coefficient and linear regression model for mouse weight and average tumor volume for the Capomulin regimen\n",
    "\n",
    "x = capomulin_WeightTumor[\"WeightGrams\"]\n",
    "y = capomulin_WeightTumor[\"TumorVolume\"]\n",
    "slope,intercept,rvalue,pvalue,stderr = st.linregress(x,y)\n",
    "\n",
    "capomulin_WeightTumor = pharma_data1.loc[(pharma_data1[\"Drug\"]==\"Capomulin\")]\n",
    "capomulin_WeightTumor\n",
    "capomulin_weight = capomulin_WeightTumor[[\"WeightGrams\"]]\n",
    "capomulin_volume = capomulin_WeightTumor[[\"TumorVolume\"]]\n",
    "plt.scatter(capomulin_weight, capomulin_volume)\n",
    "regress_values = x * slope + intercept\n",
    "plt.plot(x,regress_values,\"r-\")\n",
    "plt.title(\"Average Tumor Volume v. Mouse Weight for Capomulin Treatment\")\n",
    "plt.xlabel(\"Weight (grams)\")\n",
    "plt.ylabel(\"Tumor Volume\")\n",
    "print(f\"The correlation coefficient for this linear model is {round(rvalue,3)}\")\n",
    "\n",
    "\n",
    "\n",
    "\n"
   ]
  },
  {
   "cell_type": "code",
   "execution_count": null,
   "metadata": {},
   "outputs": [],
   "source": []
  }
 ],
 "metadata": {
  "anaconda-cloud": {},
  "kernelspec": {
   "display_name": "Python [conda env:PythonData] *",
   "language": "python",
   "name": "conda-env-PythonData-py"
  },
  "language_info": {
   "codemirror_mode": {
    "name": "ipython",
    "version": 3
   },
   "file_extension": ".py",
   "mimetype": "text/x-python",
   "name": "python",
   "nbconvert_exporter": "python",
   "pygments_lexer": "ipython3",
   "version": "3.6.10"
  }
 },
 "nbformat": 4,
 "nbformat_minor": 2
}
